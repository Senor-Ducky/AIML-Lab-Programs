{
 "cells": [
  {
   "cell_type": "code",
   "execution_count": 3,
   "metadata": {},
   "outputs": [
    {
     "name": "stdout",
     "output_type": "stream",
     "text": [
      "Normalized Input: \n",
      "[[0.66666667 1.        ]\n",
      " [0.33333333 0.55555556]\n",
      " [1.         0.66666667]]\n",
      "Actual Output: \n",
      "[[0.92]\n",
      " [0.86]\n",
      " [0.89]]\n",
      "Predicted Output: \n",
      " [[0.91136266]\n",
      " [0.90266031]\n",
      " [0.91321276]]\n"
     ]
    }
   ],
   "source": [
    "import numpy as np \n",
    "X = np.array(([2, 9], [1, 5], [3, 6]), dtype=float) \n",
    "y = np.array(([92], [86], [89]), dtype=float) \n",
    "X = X/np.amax(X,axis=0) \n",
    "y = y/100\n",
    "def sigmoid(x):\n",
    "     return 1/(1 + np.exp(-x))\n",
    "def sigmoid_grad(x):\n",
    "     return x * (1 - x)\n",
    "\n",
    "epoch=1000 \t\t\t\n",
    "eta =0.2 \t\t\t\n",
    "input_neurons = 2 \t\t\n",
    "hidden_neurons = 3 \t\t\n",
    "output_neurons = 1 \t\t\n",
    "\n",
    "inputlayer_neurons = 2 \t\n",
    "hiddenlayer_neurons = 3 \t\n",
    "output_neurons = 1 \t\t\n",
    "\n",
    "wh=np.random.uniform(size=(input_neurons,hidden_neurons))\t \t\n",
    "bh=np.random.uniform(size=(1,hidden_neurons)) \t\t\t\n",
    "wout=np.random.uniform(size=(hidden_neurons,output_neurons)) \t\n",
    "bout=np.random.uniform(size=(1,output_neurons))\n",
    "for i in range(epoch):\n",
    "\n",
    "      h_ip=np.dot(X,wh) + bh\t\t \n",
    "      h_act = sigmoid(h_ip) \t\t\n",
    "      o_ip=np.dot(h_act,wout) + bout\n",
    "      output = sigmoid(o_ip)\n",
    "\n",
    "Eo = y-output \t\t\t\t\n",
    "outgrad = sigmoid_grad(output)\n",
    "d_output = Eo* outgrad \t\t\n",
    "\n",
    "Eh = d_output.dot(wout.T) \t\t\n",
    "hiddengrad = sigmoid_grad(h_act) \t\n",
    "d_hidden = Eh * hiddengrad\n",
    "wout += h_act.T.dot(d_output) *eta \t\n",
    "wh += X.T.dot(d_hidden) *eta\n",
    "print(\"Normalized Input: \\n\" + str(X))\n",
    "print(\"Actual Output: \\n\" + str(y))\n",
    "print(\"Predicted Output: \\n\" ,output)\n"
   ]
  }
 ],
 "metadata": {
  "kernelspec": {
   "display_name": "Python 3.9.12 ('base')",
   "language": "python",
   "name": "python3"
  },
  "language_info": {
   "codemirror_mode": {
    "name": "ipython",
    "version": 3
   },
   "file_extension": ".py",
   "mimetype": "text/x-python",
   "name": "python",
   "nbconvert_exporter": "python",
   "pygments_lexer": "ipython3",
   "version": "3.9.12"
  },
  "orig_nbformat": 4,
  "vscode": {
   "interpreter": {
    "hash": "ad2bdc8ecc057115af97d19610ffacc2b4e99fae6737bb82f5d7fb13d2f2c186"
   }
  }
 },
 "nbformat": 4,
 "nbformat_minor": 2
}
