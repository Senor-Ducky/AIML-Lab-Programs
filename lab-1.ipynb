{
 "cells": [
  {
   "cell_type": "code",
   "execution_count": 1,
   "id": "4f560754",
   "metadata": {},
   "outputs": [
    {
     "name": "stdout",
     "output_type": "stream",
     "text": [
      "\n",
      " The most specific ['0','0','0','0','0','0']\n",
      "\n",
      "\n",
      " The maximally specific hypothesis for a given training example:\n",
      "\n",
      "[['sunny', 'warm', '?', 'strong', '?', '?']]\n"
     ]
    }
   ],
   "source": [
    "import csv \n",
    "\n",
    "with open('pgm1.csv', 'r') as f:\n",
    "    reader = csv.reader(f)\n",
    "    your_list = list(reader)\n",
    "\n",
    "h= [['0','0','0','0','0','0']]\n",
    "print(\"\\n The most specific ['0','0','0','0','0','0']\\n\")\n",
    "for i in your_list:\n",
    "    if i[-1] == \"yes\":\n",
    "        j=0\n",
    "        \n",
    "        for x in i:\n",
    "            if x != \"yes\":\n",
    "                if x!=h[0][j] and h[0][j] == '0':\n",
    "                    h[0][j] = x\n",
    "\n",
    "                elif x!=h[0][j] and h[0][j] != '0':\n",
    "                    h[0][j] = '?'\n",
    "                else:\n",
    "                    pass\n",
    "            j+=1\n",
    "print(\"\\n The maximally specific hypothesis for a given training example:\\n\")\n",
    "print(h)\n",
    "                    "
   ]
  },
  {
   "cell_type": "code",
   "execution_count": null,
   "id": "84fb2288",
   "metadata": {},
   "outputs": [],
   "source": []
  }
 ],
 "metadata": {
  "kernelspec": {
   "display_name": "Python 3.9.12 ('base')",
   "language": "python",
   "name": "python3"
  },
  "language_info": {
   "codemirror_mode": {
    "name": "ipython",
    "version": 3
   },
   "file_extension": ".py",
   "mimetype": "text/x-python",
   "name": "python",
   "nbconvert_exporter": "python",
   "pygments_lexer": "ipython3",
   "version": "3.9.12"
  },
  "vscode": {
   "interpreter": {
    "hash": "ad2bdc8ecc057115af97d19610ffacc2b4e99fae6737bb82f5d7fb13d2f2c186"
   }
  }
 },
 "nbformat": 4,
 "nbformat_minor": 5
}
